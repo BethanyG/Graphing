{
 "cells": [
  {
   "cell_type": "markdown",
   "metadata": {},
   "source": [
    "## Variation 1: Multiple Seborn Histplots Graphed on One Figure\n",
    "### _Create multiple color palettes by region and graph one region at a time._"
   ]
  },
  {
   "cell_type": "code",
   "execution_count": 383,
   "metadata": {},
   "outputs": [],
   "source": [
    "import seaborn as sns\n",
    "import pandas as pd\n",
    "import matplotlib.pyplot as plt"
   ]
  },
  {
   "cell_type": "code",
   "execution_count": 384,
   "metadata": {},
   "outputs": [
    {
     "name": "stdout",
     "output_type": "stream",
     "text": [
      "3\n"
     ]
    },
    {
     "data": {
      "text/html": [
       "<div>\n",
       "<style scoped>\n",
       "    .dataframe tbody tr th:only-of-type {\n",
       "        vertical-align: middle;\n",
       "    }\n",
       "\n",
       "    .dataframe tbody tr th {\n",
       "        vertical-align: top;\n",
       "    }\n",
       "\n",
       "    .dataframe thead th {\n",
       "        text-align: right;\n",
       "    }\n",
       "</style>\n",
       "<table border=\"1\" class=\"dataframe\">\n",
       "  <thead>\n",
       "    <tr style=\"text-align: right;\">\n",
       "      <th></th>\n",
       "      <th>Ages</th>\n",
       "      <th>Location</th>\n",
       "      <th>values</th>\n",
       "    </tr>\n",
       "  </thead>\n",
       "  <tbody>\n",
       "    <tr>\n",
       "      <th>0</th>\n",
       "      <td>Ages 0-14</td>\n",
       "      <td>Denman</td>\n",
       "      <td>9.06</td>\n",
       "    </tr>\n",
       "    <tr>\n",
       "      <th>1</th>\n",
       "      <td>Ages 15-64</td>\n",
       "      <td>Denman</td>\n",
       "      <td>51.09</td>\n",
       "    </tr>\n",
       "    <tr>\n",
       "      <th>2</th>\n",
       "      <td>Ages 65+</td>\n",
       "      <td>Denman</td>\n",
       "      <td>39.86</td>\n",
       "    </tr>\n",
       "    <tr>\n",
       "      <th>3</th>\n",
       "      <td>Ages 0-14</td>\n",
       "      <td>Hornby</td>\n",
       "      <td>8.98</td>\n",
       "    </tr>\n",
       "    <tr>\n",
       "      <th>4</th>\n",
       "      <td>Ages 15-64</td>\n",
       "      <td>Hornby</td>\n",
       "      <td>47.35</td>\n",
       "    </tr>\n",
       "    <tr>\n",
       "      <th>5</th>\n",
       "      <td>Ages 65+</td>\n",
       "      <td>Hornby</td>\n",
       "      <td>43.67</td>\n",
       "    </tr>\n",
       "    <tr>\n",
       "      <th>6</th>\n",
       "      <td>Ages 0-14</td>\n",
       "      <td>CV</td>\n",
       "      <td>13.71</td>\n",
       "    </tr>\n",
       "    <tr>\n",
       "      <th>7</th>\n",
       "      <td>Ages 15-64</td>\n",
       "      <td>CV</td>\n",
       "      <td>57.86</td>\n",
       "    </tr>\n",
       "    <tr>\n",
       "      <th>8</th>\n",
       "      <td>Ages 65+</td>\n",
       "      <td>CV</td>\n",
       "      <td>28.43</td>\n",
       "    </tr>\n",
       "    <tr>\n",
       "      <th>9</th>\n",
       "      <td>Ages 0-14</td>\n",
       "      <td>BC</td>\n",
       "      <td>14.34</td>\n",
       "    </tr>\n",
       "    <tr>\n",
       "      <th>10</th>\n",
       "      <td>Ages 15-64</td>\n",
       "      <td>BC</td>\n",
       "      <td>65.34</td>\n",
       "    </tr>\n",
       "    <tr>\n",
       "      <th>11</th>\n",
       "      <td>Ages 65+</td>\n",
       "      <td>BC</td>\n",
       "      <td>20.32</td>\n",
       "    </tr>\n",
       "    <tr>\n",
       "      <th>12</th>\n",
       "      <td>Ages 0-14</td>\n",
       "      <td>Canada</td>\n",
       "      <td>16.25</td>\n",
       "    </tr>\n",
       "    <tr>\n",
       "      <th>13</th>\n",
       "      <td>Ages 15-64</td>\n",
       "      <td>Canada</td>\n",
       "      <td>64.76</td>\n",
       "    </tr>\n",
       "    <tr>\n",
       "      <th>14</th>\n",
       "      <td>Ages 65+</td>\n",
       "      <td>Canada</td>\n",
       "      <td>18.98</td>\n",
       "    </tr>\n",
       "  </tbody>\n",
       "</table>\n",
       "</div>"
      ],
      "text/plain": [
       "          Ages Location  values\n",
       "0    Ages 0-14   Denman    9.06\n",
       "1   Ages 15-64   Denman   51.09\n",
       "2     Ages 65+   Denman   39.86\n",
       "3    Ages 0-14   Hornby    8.98\n",
       "4   Ages 15-64   Hornby   47.35\n",
       "5     Ages 65+   Hornby   43.67\n",
       "6    Ages 0-14       CV   13.71\n",
       "7   Ages 15-64       CV   57.86\n",
       "8     Ages 65+       CV   28.43\n",
       "9    Ages 0-14       BC   14.34\n",
       "10  Ages 15-64       BC   65.34\n",
       "11    Ages 65+       BC   20.32\n",
       "12   Ages 0-14   Canada   16.25\n",
       "13  Ages 15-64   Canada   64.76\n",
       "14    Ages 65+   Canada   18.98"
      ]
     },
     "execution_count": 384,
     "metadata": {},
     "output_type": "execute_result"
    }
   ],
   "source": [
    "# Data loading & munging\n",
    "df = pd.read_csv(\"ages.csv\", index_col=0).mul(100).round(2)\n",
    "df = pd.melt(df.reset_index(), id_vars=[\n",
    "             \"Ages\"], var_name=\"Location\", value_vars=df.columns, value_name=\"values\")\n",
    "\n",
    "\n",
    "print(len(df.groupby(\"Ages\").count()))\n",
    "df"
   ]
  },
  {
   "cell_type": "code",
   "execution_count": 385,
   "metadata": {},
   "outputs": [],
   "source": [
    "# Selecting region data\n",
    "denman_df = df.loc[df[\"Location\"] == \"Denman\"]\n",
    "hornby_df = df.loc[df[\"Location\"] == \"Hornby\"]\n",
    "cv_df = df.loc[df[\"Location\"] == \"CV\"]\n",
    "bc_df = df.loc[df[\"Location\"] == \"BC\"]\n",
    "canada_df = df.loc[df[\"Location\"] == \"Canada\"]"
   ]
  },
  {
   "cell_type": "code",
   "execution_count": 388,
   "metadata": {},
   "outputs": [],
   "source": [
    "# Seed/start colors for the Seaborn palettes\n",
    "colors = {'blue' :'#0A3A86',\n",
    "          'purple':'#3F2394',\n",
    "          'yellow':'#E5B625',\n",
    "          'orange':'#D26D03',\n",
    "          'green': '#326C14'}\n",
    "\n",
    "\n",
    "# Number of *evenly spaced* colors to generate/choose from the sns palettes. \n",
    "#I add three here, because the first three shades are too light in sns.light_palette.\n",
    "increments = len(df.groupby(\"Ages\").count()) + 3\n",
    "\n",
    "# Input format for the starting color\n",
    "input_format = 'hex'\n",
    "\n",
    "# Reverse the color order\n",
    "reverse = True\n",
    "\n",
    "# Slice size\n",
    "section = -3\n",
    "\n",
    "\n",
    "\n",
    "# Chopping off the first three increments because they're generally too light when using light_palette.\n",
    "# Outputting as hex codes for ease of use (coverting the RGB is a colossal PITA).\n",
    "yellows = sns.color_palette(sns.light_palette(colors['yellow'], increments, input=input_format, reverse=reverse)[:section]).as_hex()\n",
    "oranges = sns.color_palette(sns.light_palette(colors['orange'], increments, input=input_format, reverse=reverse)[:section]).as_hex()\n",
    "greens =  sns.color_palette(sns.light_palette(colors['green'], increments, input=input_format, reverse=reverse)[:section]).as_hex()\n",
    "blues =   sns.color_palette(sns.light_palette(colors['blue'], increments, input=input_format, reverse=reverse)[:section]).as_hex()\n",
    "purples = sns.color_palette(sns.light_palette(colors['purple'], increments, input=input_format, reverse=reverse)[:section]).as_hex()\n",
    "    \n",
    "# Assiging a generated palette by region\n",
    "palette = {\n",
    "            'denman':  blues,\n",
    "            'hornby':  purples,\n",
    "            'cv':  yellows,\n",
    "            'bc':  oranges,\n",
    "            'canada': greens,\n",
    "           }  "
   ]
  },
  {
   "cell_type": "code",
   "execution_count": 393,
   "metadata": {},
   "outputs": [
    {
     "data": {
      "image/png": "[encoded data removed]",
      "text/plain": [
       "<Figure size 1080x648 with 1 Axes>"
      ]
     },
     "metadata": {},
     "output_type": "display_data"
    }
   ],
   "source": [
    "# Setting the main figure and axis parameters for chart\n",
    "# Each axis is a 15 x 9 subplot\n",
    "figure, axis = plt.subplots(figsize=(15, 9))\n",
    "\n",
    "# Set x-axis tickmarks to the bottm\n",
    "axis.xaxis.tick_bottom()\n",
    "\n",
    "# Hide y-axis tick marks\n",
    "axis.tick_params(axis='y', length=0, labelsize=20, labeltop=True, colors=\"#4A4A4A\")\n",
    "\n",
    "# Hide x-axis tick marks\n",
    "axis.tick_params(axis='x', length=0, labelsize=0)\n",
    "\n",
    "# X-Axis labels (Ages)\n",
    "age_labels = \"Ages 0-14                                Ages 15-64                                                       Ages 65+\"\n",
    "\n",
    "# Set and format x-axis labels\n",
    "axis.set_xlabel(age_labels, labelpad=1, loc='left', fontsize=20, color=\"#4A4A4A\", y=.97)\n",
    "\n",
    "# Set and format y-axis labels\n",
    "axis.set_ylabel(\"Location\", size=0)\n",
    "\n",
    "# Hide plot outlines (\"spines\")\n",
    "plt.setp(axis.spines.values(), color=None)\n",
    "\n",
    "# Setting up the parameters for the histplots\n",
    "hue_order = [\"Ages 65+\", \"Ages 15-64\", \"Ages 0-14\"]\n",
    "\n",
    "# 4 Ages hue order\n",
    "#hue_order = [\"Ages 65+\", \"Ages 45-64\", \"Ages 15-44\", \"Ages 0-14\"]\n",
    "#hue_order = [\"Ages 0-14\", \"Ages 15-44\", \"Ages 45-64\", \"Ages 65+\"]\n",
    "\n",
    "\n",
    "# Regions and palettes to graph\n",
    "regions = [(denman_df, 'denman'),(hornby_df, 'hornby'),(cv_df, 'cv'),(bc_df, 'bc'),(canada_df, 'canada')]\n",
    "\n",
    "# Additional histplot variables\n",
    "weights, y, hue, multiple, shrink  = \"values\", \"Location\", \"Ages\", \"stack\", .8\n",
    "\n",
    "# Looping throug the regions and drawing a histplot for each, using the arguments shown above.\n",
    "for region in regions:\n",
    "    sns.histplot(hue_order=hue_order, \n",
    "                 data=region[0].reset_index(drop=True), \n",
    "                 weights=weights, \n",
    "                 y=y, \n",
    "                 hue=hue, \n",
    "                 multiple=multiple,\n",
    "                 shrink=shrink,\n",
    "                 palette=palette[region[1]],\n",
    "                 ax=axis).legend_.remove()\n",
    "    \n",
    "    # For each region, loop through the bar sections and assign lables\n",
    "    for section in axis.containers:\n",
    "        # Optional: if the segment is small or 0, customize the labels\n",
    "        #labels = [value.get_height() if value.get_height() else '' for value in section]\n",
    "\n",
    "        # remove the labels parameter if it's not needed for customized labels\n",
    "        axis.bar_label(section, fmt='%0.2f%%', label_type='center', fontsize=16)\n",
    "\n"
   ]
  },
  {
   "cell_type": "markdown",
   "metadata": {},
   "source": [
    "__________________________\n",
    "## Variation 2: Single Seaborn  Histplot \n",
    "### _Modified color palette with manually assigned color for each container within subplots._"
   ]
  },
  {
   "cell_type": "code",
   "execution_count": 373,
   "metadata": {},
   "outputs": [
    {
     "data": {
      "text/html": [
       "<div>\n",
       "<style scoped>\n",
       "    .dataframe tbody tr th:only-of-type {\n",
       "        vertical-align: middle;\n",
       "    }\n",
       "\n",
       "    .dataframe tbody tr th {\n",
       "        vertical-align: top;\n",
       "    }\n",
       "\n",
       "    .dataframe thead th {\n",
       "        text-align: right;\n",
       "    }\n",
       "</style>\n",
       "<table border=\"1\" class=\"dataframe\">\n",
       "  <thead>\n",
       "    <tr style=\"text-align: right;\">\n",
       "      <th></th>\n",
       "      <th>Ages</th>\n",
       "      <th>Location</th>\n",
       "      <th>values</th>\n",
       "    </tr>\n",
       "  </thead>\n",
       "  <tbody>\n",
       "    <tr>\n",
       "      <th>0</th>\n",
       "      <td>Ages 0-14</td>\n",
       "      <td>Denman</td>\n",
       "      <td>9.06</td>\n",
       "    </tr>\n",
       "    <tr>\n",
       "      <th>1</th>\n",
       "      <td>Ages 15-64</td>\n",
       "      <td>Denman</td>\n",
       "      <td>51.09</td>\n",
       "    </tr>\n",
       "    <tr>\n",
       "      <th>2</th>\n",
       "      <td>Ages 65+</td>\n",
       "      <td>Denman</td>\n",
       "      <td>39.86</td>\n",
       "    </tr>\n",
       "    <tr>\n",
       "      <th>3</th>\n",
       "      <td>Ages 0-14</td>\n",
       "      <td>Hornby</td>\n",
       "      <td>8.98</td>\n",
       "    </tr>\n",
       "    <tr>\n",
       "      <th>4</th>\n",
       "      <td>Ages 15-64</td>\n",
       "      <td>Hornby</td>\n",
       "      <td>47.35</td>\n",
       "    </tr>\n",
       "    <tr>\n",
       "      <th>5</th>\n",
       "      <td>Ages 65+</td>\n",
       "      <td>Hornby</td>\n",
       "      <td>43.67</td>\n",
       "    </tr>\n",
       "    <tr>\n",
       "      <th>6</th>\n",
       "      <td>Ages 0-14</td>\n",
       "      <td>CV</td>\n",
       "      <td>13.71</td>\n",
       "    </tr>\n",
       "    <tr>\n",
       "      <th>7</th>\n",
       "      <td>Ages 15-64</td>\n",
       "      <td>CV</td>\n",
       "      <td>57.86</td>\n",
       "    </tr>\n",
       "    <tr>\n",
       "      <th>8</th>\n",
       "      <td>Ages 65+</td>\n",
       "      <td>CV</td>\n",
       "      <td>28.43</td>\n",
       "    </tr>\n",
       "    <tr>\n",
       "      <th>9</th>\n",
       "      <td>Ages 0-14</td>\n",
       "      <td>BC</td>\n",
       "      <td>14.34</td>\n",
       "    </tr>\n",
       "    <tr>\n",
       "      <th>10</th>\n",
       "      <td>Ages 15-64</td>\n",
       "      <td>BC</td>\n",
       "      <td>65.34</td>\n",
       "    </tr>\n",
       "    <tr>\n",
       "      <th>11</th>\n",
       "      <td>Ages 65+</td>\n",
       "      <td>BC</td>\n",
       "      <td>20.32</td>\n",
       "    </tr>\n",
       "    <tr>\n",
       "      <th>12</th>\n",
       "      <td>Ages 0-14</td>\n",
       "      <td>Canada</td>\n",
       "      <td>16.25</td>\n",
       "    </tr>\n",
       "    <tr>\n",
       "      <th>13</th>\n",
       "      <td>Ages 15-64</td>\n",
       "      <td>Canada</td>\n",
       "      <td>64.76</td>\n",
       "    </tr>\n",
       "    <tr>\n",
       "      <th>14</th>\n",
       "      <td>Ages 65+</td>\n",
       "      <td>Canada</td>\n",
       "      <td>18.98</td>\n",
       "    </tr>\n",
       "  </tbody>\n",
       "</table>\n",
       "</div>"
      ],
      "text/plain": [
       "          Ages Location  values\n",
       "0    Ages 0-14   Denman    9.06\n",
       "1   Ages 15-64   Denman   51.09\n",
       "2     Ages 65+   Denman   39.86\n",
       "3    Ages 0-14   Hornby    8.98\n",
       "4   Ages 15-64   Hornby   47.35\n",
       "5     Ages 65+   Hornby   43.67\n",
       "6    Ages 0-14       CV   13.71\n",
       "7   Ages 15-64       CV   57.86\n",
       "8     Ages 65+       CV   28.43\n",
       "9    Ages 0-14       BC   14.34\n",
       "10  Ages 15-64       BC   65.34\n",
       "11    Ages 65+       BC   20.32\n",
       "12   Ages 0-14   Canada   16.25\n",
       "13  Ages 15-64   Canada   64.76\n",
       "14    Ages 65+   Canada   18.98"
      ]
     },
     "execution_count": 373,
     "metadata": {},
     "output_type": "execute_result"
    }
   ],
   "source": [
    "import numpy as np\n",
    "import pandas as pd\n",
    "import seaborn as sns\n",
    "import matplotlib.pyplot as plt\n",
    "\n",
    "df = pd.read_csv(\"ages.csv\", index_col=0).mul(100).round(2)\n",
    "df = pd.melt(df.reset_index(), \n",
    "              id_vars=[\"Ages\"], \n",
    "              var_name=\"Location\", \n",
    "              value_vars=df.columns, value_name=\"values\")\n",
    "\n",
    "df"
   ]
  },
  {
   "cell_type": "code",
   "execution_count": 395,
   "metadata": {},
   "outputs": [
    {
     "data": {
      "image/png": "[encoded data removed]",
      "text/plain": [
       "<Figure size 1440x72 with 1 Axes>"
      ]
     },
     "metadata": {},
     "output_type": "display_data"
    }
   ],
   "source": [
    "# Set Seaborn plot style: white in the background, no grid lines\n",
    "sns.set_theme(style=\"white\")\n",
    "\n",
    "\n",
    "# Set this equal to the number of categories + 3\n",
    "# This is the number of *evenly spaced* colors to generate/choose from the sns palettes. \n",
    "#I add three here, because the first three shades are too light in sns.light_palette.\n",
    "buckets = 7\n",
    "\n",
    "\n",
    "# assigning regions to color palettes\n",
    "denman = sns.color_palette(sns.light_palette('#0A3A86', buckets, input='hex')[3:]).as_hex()\n",
    "hornby = sns.color_palette(sns.light_palette('#3F2394', buckets, input='hex')[3:]).as_hex()\n",
    "cv = sns.color_palette(sns.light_palette('#E5B625', buckets, input='hex')[3:]).as_hex()\n",
    "bc = sns.color_palette(sns.light_palette('#D26D03', buckets, input='hex')[3:]).as_hex()\n",
    "canada = sns.color_palette(sns.light_palette('#326C14', buckets, input='hex')[3:]).as_hex()\n",
    "\n",
    "# Transposing/stacking colors to create incremented palette\n",
    "colors = [item for item in zip(denman, hornby, cv, bc, canada)]\n",
    "regions = [element for item in colors for element in item]\n",
    "\n",
    "sns.palplot(regions)"
   ]
  },
  {
   "cell_type": "code",
   "execution_count": 396,
   "metadata": {},
   "outputs": [
    {
     "data": {
      "image/png": "[encoded data removed]",
      "text/plain": [
       "<Figure size 1080x648 with 1 Axes>"
      ]
     },
     "metadata": {},
     "output_type": "display_data"
    }
   ],
   "source": [
    "# Setting figure and axis with subplots\n",
    "figure, axis = plt.subplots(figsize=(15, 9))\n",
    "axis.xaxis.tick_bottom()\n",
    "axis.tick_params(axis='y', length=0, labelsize=20, labeltop=True, colors=\"#4A4A4A\")\n",
    "axis.tick_params(axis='x', length=0, labelsize=0)\n",
    "\n",
    "# Ages labels\n",
    "age_labels = \"Ages 0-14                                Ages 15-64                                                       Ages 65+\"\n",
    "axis.set_xlabel(age_labels, labelpad=1, loc='left', fontsize=20, color=\"#4A4A4A\", y=.97)\n",
    "\n",
    "# Location labels\n",
    "axis.set_ylabel(\"Location\", size=0)\n",
    "\n",
    "# Remove plot outline (\"spine\")\n",
    "plt.setp(axis.spines.values(), color=None)\n",
    "\n",
    "\n",
    "# Setting histogram parameters\n",
    "hue_order=[\"Ages 65+\", \"Ages 15-64\", \"Ages 0-14\"]\n",
    "hue = \"Ages\"\n",
    "y = \"Location\"\n",
    "weights = \"values\"\n",
    "multiple = \"stack\"\n",
    "element = \"bars\"\n",
    "shrink= .8\n",
    "\n",
    "# Plot histogram of entire dataframe with weights\n",
    "sns.histplot(df.reset_index(drop=True), \n",
    "             y=y,\n",
    "             weights=weights,\n",
    "             hue=hue,\n",
    "             hue_order=hue_order, \n",
    "             palette=sns.color_palette(\"flare\", 3),\n",
    "             multiple=multiple, \n",
    "             element=element,\n",
    "             shrink=shrink,\n",
    "             discrete=True,\n",
    "             legend=False)\n",
    "\n",
    "\n",
    "# Now, iterate back through all sections in the figure & reassign colors based on regions color palette\n",
    "for area, color in zip(axis.patches, regions):\n",
    "    area.set_facecolor(color)\n",
    "    \n",
    "# Next, iterate back through the figure and calculate labels for subsections\n",
    "for section in axis.containers:    \n",
    "\n",
    "    # Optional: if the segment is small or 0, customize the labels\n",
    "    labels = [value.get_height() if value.get_height() else '' for value in section]\n",
    "    \n",
    "    \n",
    "    # remove the labels parameter if it's not needed for customized labels\n",
    "    axis.bar_label(section, fmt='%0.2f%%', label_type='center', fontsize=16)"
   ]
  },
  {
   "cell_type": "markdown",
   "metadata": {},
   "source": [
    "___________________\n",
    "\n",
    "### Below are some notes and examples showing different ways to create color palettes."
   ]
  },
  {
   "cell_type": "code",
   "execution_count": 358,
   "metadata": {},
   "outputs": [
    {
     "data": {
      "image/png": "[encoded data removed]",
      "text/plain": [
       "<Figure size 1080x72 with 1 Axes>"
      ]
     },
     "metadata": {},
     "output_type": "display_data"
    }
   ],
   "source": [
    "# Example of 15 spaced selections starting with the Seaborn default blue --> white.\n",
    "sns.palplot(sns.light_palette(\"blue\", 15))"
   ]
  },
  {
   "cell_type": "code",
   "execution_count": 359,
   "metadata": {},
   "outputs": [
    {
     "data": {
      "image/png": "[encoded data removed]",
      "text/plain": [
       "<Figure size 1440x72 with 1 Axes>"
      ]
     },
     "metadata": {},
     "output_type": "display_data"
    }
   ],
   "source": [
    "# Example of the Tableau 20b color palette from Seaborn.\n",
    "# Quite nice, but needs a 5th shade for each color to match our data shape.\n",
    "sns.palplot(sns.color_palette(\"tab20b\"))"
   ]
  },
  {
   "cell_type": "code",
   "execution_count": 360,
   "metadata": {},
   "outputs": [
    {
     "data": {
      "image/png": "[encoded data removed]",
      "text/plain": [
       "<Figure size 1440x72 with 1 Axes>"
      ]
     },
     "metadata": {},
     "output_type": "display_data"
    }
   ],
   "source": [
    "# Example of sampling a set number of colors from the Tableau 20b palette\n",
    "# Still have a data shape issue (for our purposes), though.\n",
    "sns.palplot(sns.color_palette(\"tab20c\", 20))"
   ]
  },
  {
   "cell_type": "code",
   "execution_count": 361,
   "metadata": {},
   "outputs": [
    {
     "data": {
      "image/png": "[encoded data removed]",
      "text/plain": [
       "<Figure size 2520x72 with 1 Axes>"
      ]
     },
     "metadata": {},
     "output_type": "display_data"
    }
   ],
   "source": [
    "# Random HLS palette\n",
    "# This could be sampled for color\n",
    "sns.palplot(sns.hls_palette(n_colors=35, h=.5, l=.6, s=.8))"
   ]
  },
  {
   "cell_type": "code",
   "execution_count": 362,
   "metadata": {},
   "outputs": [
    {
     "data": {
      "image/png": "[encoded data removed]",
      "text/plain": [
       "<Figure size 2160x72 with 1 Axes>"
      ]
     },
     "metadata": {},
     "output_type": "display_data"
    }
   ],
   "source": [
    "# Random cubehelix palette\n",
    "# This could be sampled for color\n",
    "sns.palplot(sns.cubehelix_palette(30, start=-1,rot=1.9, hue=1, gamma=.8 ,dark=.9,light=.3))"
   ]
  },
  {
   "cell_type": "code",
   "execution_count": 363,
   "metadata": {},
   "outputs": [
    {
     "data": {
      "image/png": "[encoded data removed]",
      "text/plain": [
       "<Figure size 2520x72 with 1 Axes>"
      ]
     },
     "metadata": {},
     "output_type": "display_data"
    },
    {
     "data": {
      "image/png": "[encoded data removed]",
      "text/plain": [
       "<Figure size 2520x72 with 1 Axes>"
      ]
     },
     "metadata": {},
     "output_type": "display_data"
    }
   ],
   "source": [
    "sns.palplot(sns.cubehelix_palette(n_colors=35, start=-.03, rot=-2, gamma=.8, hue=1.7, dark=.9,light=.05))\n",
    "sns.palplot(sns.color_palette(\"husl\", 35))"
   ]
  },
  {
   "cell_type": "code",
   "execution_count": 365,
   "metadata": {},
   "outputs": [
    {
     "data": {
      "image/png": "[encoded data removed]",
      "text/plain": [
       "<Figure size 1800x72 with 1 Axes>"
      ]
     },
     "metadata": {},
     "output_type": "display_data"
    }
   ],
   "source": [
    "# These are the colors I used for the original plots, but organized by region.\n",
    "# This doesn't work for a histogram or stacked bar plot, since the default is\n",
    "# For the drawing algorithm to select only three colors to correspond to the column values.\n",
    "colors = [\"#2a308b\", \"#3d49a0\", \"#5062b5\", \"#657cc9\", \"#87a3e7\", \n",
    "          \"#582a92\", \"#6a3e9d\", \"#7c53a8\", \"#8d67b3\", \"#9d7cbe\", \n",
    "          \"#95391c\", \"#b05030\", \"#c66b4b\", \"#d6886d\", \"#e9b4a1\", \n",
    "          \"#f6a301\", \"#f2b817\", \"#f4c43d\", \"#fad068\", \"#fedb8f\", \n",
    "          \"#016300\", \"#287900\", \"#4c902c\", \"#84b16b\", \"#a7c794\"]\n",
    "\n",
    "# Plotting the original palette\n",
    "sns.palplot(colors)"
   ]
  },
  {
   "cell_type": "code",
   "execution_count": 366,
   "metadata": {},
   "outputs": [
    {
     "data": {
      "image/png": "[encoded data removed]",
      "text/plain": [
       "<Figure size 1800x72 with 1 Axes>"
      ]
     },
     "metadata": {},
     "output_type": "display_data"
    }
   ],
   "source": [
    "# In order for color assignment to work correctly, colors need to be re-organized by column values.\n",
    "# This can be accopmlished by using zip, if the list above is devided into sub-rows.\n",
    "# This will arrange all the light colors, then darker, to darkest.\n",
    "mor_colors = ['#2a308b', '#582a92', '#95391c', '#f6a301', '#016300',\n",
    " '#3d49a0', '#6a3e9d', '#b05030', '#f2b817', '#287900',\n",
    " '#5062b5', '#7c53a8', '#c66b4b', '#f4c43d', '#4c902c',\n",
    " '#657cc9', '#8d67b3', '#d6886d', '#fad068', '#84b16b',\n",
    " '#87a3e7', '#9d7cbe', '#e9b4a1', '#fedb8f', '#a7c794']\n",
    "\n",
    "\n",
    "\n",
    "# Plotting the tone/shade based palette, lightest to darkest.\n",
    "sns.palplot(mor_colors[::-1])"
   ]
  },
  {
   "cell_type": "code",
   "execution_count": 743,
   "metadata": {},
   "outputs": [
    {
     "data": {
      "image/png": "[encoded data removed]",
      "text/plain": [
       "<Figure size 360x72 with 1 Axes>"
      ]
     },
     "metadata": {},
     "output_type": "display_data"
    },
    {
     "data": {
      "image/png": "[encoded data removed]",
      "text/plain": [
       "<Figure size 360x72 with 1 Axes>"
      ]
     },
     "metadata": {},
     "output_type": "display_data"
    }
   ],
   "source": [
    "# Examples showing how light_palette and dark_palette *evenly space* the number of colors,\n",
    "#starting with the \"starting\" color - in this case, a hex color code.\n",
    "sns.palplot(sns.light_palette('#DD1A1A', 6, input='hex')[1:])\n",
    "sns.palplot(sns.dark_palette('#DD1A1A', 6, input='hex')[1:])\n"
   ]
  },
  {
   "cell_type": "code",
   "execution_count": 367,
   "metadata": {},
   "outputs": [],
   "source": [
    "# Setting the starting colors for the maps.\n",
    "color_names = {'red':'#DD1A1A',\n",
    "               'yellow':'#E5B625',\n",
    "               'orange':'#D26D03',\n",
    "               'green': '#326C14',\n",
    "               'blue': '#0A3A86', \n",
    "               'd_blue': '#1155CC',\n",
    "               'purple':'#3F2394',\n",
    "               'd_purple': '#603AD6'}\n",
    "\n",
    "# Number of *evenly spaced* colors to generate\n",
    "increments = 6\n",
    "\n",
    "# Input format for the starting color\n",
    "input_format = 'hex'\n",
    "\n",
    "\n",
    "# Chopping off the first three increments because they're generally too light when using light_palette.\n",
    "# Outputting as hex codes for ease of use (coverting the RGB is a colossal PITA).\n",
    "yellows = sns.light_palette(color_names['yellow'], increments, input=input_format).as_hex()[3:]\n",
    "oranges = sns.light_palette(color_names['orange'], increments, input=input_format).as_hex()[3:]\n",
    "greens =  sns.light_palette(color_names['green'], increments, input=input_format).as_hex()[3:]\n",
    "blues =   sns.light_palette(color_names['blue'], increments, input=input_format).as_hex()[3:]\n",
    "purples = sns.light_palette(color_names['purple'], increments, input=input_format).as_hex()[3:]\n",
    "\n",
    "\n",
    "\n",
    "# Dark equivelent of the same colors (reversed to go lighter --> darker).\n",
    "# Had to adjust the darker starting colors to lighter, because they went too dark.\n",
    "d_yellows = sns.dark_palette(color_names['yellow'], increments, input=input_format, reverse=True).as_hex()[:3]\n",
    "d_oranges = sns.dark_palette(color_names['orange'], increments, input=input_format, reverse=True).as_hex()[:3]\n",
    "d_greens =  sns.dark_palette(color_names['green'], increments, input=input_format, reverse=True).as_hex()[:3]\n",
    "d_blues =   sns.dark_palette(color_names['d_blue'], increments, input=input_format, reverse=True).as_hex()[:3]\n",
    "d_purples = sns.dark_palette(color_names['d_purple'], increments, input=input_format, reverse=True).as_hex()[:3]"
   ]
  },
  {
   "cell_type": "code",
   "execution_count": 372,
   "metadata": {},
   "outputs": [
    {
     "data": {
      "image/png": "[encoded data removed]",
      "text/plain": [
       "<Figure size 504x72 with 1 Axes>"
      ]
     },
     "metadata": {},
     "output_type": "display_data"
    },
    {
     "data": {
      "image/png": "[encoded data removed]",
      "text/plain": [
       "<Figure size 504x72 with 1 Axes>"
      ]
     },
     "metadata": {},
     "output_type": "display_data"
    },
    {
     "data": {
      "image/png": "[encoded data removed]",
      "text/plain": [
       "<Figure size 504x72 with 1 Axes>"
      ]
     },
     "metadata": {},
     "output_type": "display_data"
    },
    {
     "data": {
      "image/png": "[encoded data removed]",
      "text/plain": [
       "<Figure size 504x72 with 1 Axes>"
      ]
     },
     "metadata": {},
     "output_type": "display_data"
    },
    {
     "data": {
      "image/png": "[encoded data removed]",
      "text/plain": [
       "<Figure size 504x72 with 1 Axes>"
      ]
     },
     "metadata": {},
     "output_type": "display_data"
    }
   ],
   "source": [
    "# Light direction vs dark direction for spaced colors\n",
    "sns.palplot(yellows + ['#FFFFFF'] + d_yellows)\n",
    "sns.palplot(oranges + ['#FFFFFF'] + d_oranges)\n",
    "sns.palplot(greens  + ['#FFFFFF'] + d_greens)\n",
    "sns.palplot(blues   + ['#FFFFFF'] + d_blues)\n",
    "sns.palplot(purples + ['#FFFFFF'] + d_purples)"
   ]
  },
  {
   "cell_type": "code",
   "execution_count": 371,
   "metadata": {},
   "outputs": [
    {
     "data": {
      "image/png": "[encoded data removed]",
      "text/plain": [
       "<Figure size 1080x72 with 1 Axes>"
      ]
     },
     "metadata": {},
     "output_type": "display_data"
    },
    {
     "data": {
      "image/png": "[encoded data removed]",
      "text/plain": [
       "<Figure size 1080x72 with 1 Axes>"
      ]
     },
     "metadata": {},
     "output_type": "display_data"
    }
   ],
   "source": [
    "#Spaced color palette light, rows together\n",
    "row_wise_light = [item for item in sum([blues, purples, yellows, oranges, greens], [])]\n",
    "sns.palplot(row_wise_light)\n",
    "\n",
    "#Spaced color palette light, columns together\n",
    "col_wise_light = [element for item in zip(blues, purples, yellows, oranges,greens) for element in item]\n",
    "sns.palplot(col_wise_light)"
   ]
  },
  {
   "cell_type": "code",
   "execution_count": 370,
   "metadata": {},
   "outputs": [
    {
     "data": {
      "image/png": "[encoded data removed]",
      "text/plain": [
       "<Figure size 1080x72 with 1 Axes>"
      ]
     },
     "metadata": {},
     "output_type": "display_data"
    },
    {
     "data": {
      "image/png": "[encoded data removed]",
      "text/plain": [
       "<Figure size 1080x72 with 1 Axes>"
      ]
     },
     "metadata": {},
     "output_type": "display_data"
    }
   ],
   "source": [
    "#Spaced color palette dark, rows together\n",
    "row_wise_dark = [item for item in sum([d_blues, d_purples, d_yellows, d_oranges, d_greens], [])]\n",
    "sns.palplot(row_wise_dark)\n",
    "\n",
    "#Spaced color palette dark, columns togethe\n",
    "col_wise_dark = [element for item in zip(d_blues, d_purples, d_yellows, d_oranges, d_greens) for element in item]\n",
    "sns.palplot(col_wise_dark)"
   ]
  },
  {
   "cell_type": "code",
   "execution_count": null,
   "metadata": {},
   "outputs": [],
   "source": []
  }
 ],
 "metadata": {
  "kernelspec": {
   "display_name": "Python 3 (ipykernel)",
   "language": "python",
   "name": "python3"
  },
  "language_info": {
   "codemirror_mode": {
    "name": "ipython",
    "version": 3
   },
   "file_extension": ".py",
   "mimetype": "text/x-python",
   "name": "python",
   "nbconvert_exporter": "python",
   "pygments_lexer": "ipython3",
   "version": "3.10.4"
  }
 },
 "nbformat": 4,
 "nbformat_minor": 2
}
