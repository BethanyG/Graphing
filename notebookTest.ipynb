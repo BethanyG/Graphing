{
 "cells": [
  {
   "cell_type": "code",
   "execution_count": 121,
   "metadata": {},
   "outputs": [
    {
     "data": {
      "text/html": [
       "<div>\n",
       "<style scoped>\n",
       "    .dataframe tbody tr th:only-of-type {\n",
       "        vertical-align: middle;\n",
       "    }\n",
       "\n",
       "    .dataframe tbody tr th {\n",
       "        vertical-align: top;\n",
       "    }\n",
       "\n",
       "    .dataframe thead th {\n",
       "        text-align: right;\n",
       "    }\n",
       "</style>\n",
       "<table border=\"1\" class=\"dataframe\">\n",
       "  <thead>\n",
       "    <tr style=\"text-align: right;\">\n",
       "      <th></th>\n",
       "      <th>Number of People</th>\n",
       "      <th>Denman</th>\n",
       "      <th>Hornby</th>\n",
       "      <th>CV</th>\n",
       "      <th>BC</th>\n",
       "      <th>Canada</th>\n",
       "    </tr>\n",
       "  </thead>\n",
       "  <tbody>\n",
       "    <tr>\n",
       "      <th>0</th>\n",
       "      <td>1 person</td>\n",
       "      <td>240</td>\n",
       "      <td>285</td>\n",
       "      <td>9370</td>\n",
       "      <td>600705</td>\n",
       "      <td>4396015</td>\n",
       "    </tr>\n",
       "    <tr>\n",
       "      <th>1</th>\n",
       "      <td>2 persons</td>\n",
       "      <td>315</td>\n",
       "      <td>260</td>\n",
       "      <td>13380</td>\n",
       "      <td>719865</td>\n",
       "      <td>5124800</td>\n",
       "    </tr>\n",
       "    <tr>\n",
       "      <th>2</th>\n",
       "      <td>3 persons</td>\n",
       "      <td>70</td>\n",
       "      <td>55</td>\n",
       "      <td>4210</td>\n",
       "      <td>296200</td>\n",
       "      <td>2194825</td>\n",
       "    </tr>\n",
       "    <tr>\n",
       "      <th>3</th>\n",
       "      <td>4 persons</td>\n",
       "      <td>40</td>\n",
       "      <td>45</td>\n",
       "      <td>3315</td>\n",
       "      <td>256700</td>\n",
       "      <td>2002455</td>\n",
       "    </tr>\n",
       "    <tr>\n",
       "      <th>4</th>\n",
       "      <td>5 or more persons</td>\n",
       "      <td>25</td>\n",
       "      <td>15</td>\n",
       "      <td>1660</td>\n",
       "      <td>168355</td>\n",
       "      <td>1260850</td>\n",
       "    </tr>\n",
       "  </tbody>\n",
       "</table>\n",
       "</div>"
      ],
      "text/plain": [
       "    Number of People  Denman  Hornby     CV      BC   Canada\n",
       "0           1 person     240     285   9370  600705  4396015\n",
       "1          2 persons     315     260  13380  719865  5124800\n",
       "2          3 persons      70      55   4210  296200  2194825\n",
       "3          4 persons      40      45   3315  256700  2002455\n",
       "4  5 or more persons      25      15   1660  168355  1260850"
      ]
     },
     "metadata": {},
     "output_type": "display_data"
    },
    {
     "data": {
      "text/plain": [
       "0         240\n",
       "1         315\n",
       "2          70\n",
       "3          40\n",
       "4          25\n",
       "5         285\n",
       "6         260\n",
       "7          55\n",
       "8          45\n",
       "9          15\n",
       "10       9370\n",
       "11      13380\n",
       "12       4210\n",
       "13       3315\n",
       "14       1660\n",
       "15     600705\n",
       "16     719865\n",
       "17     296200\n",
       "18     256700\n",
       "19     168355\n",
       "20    4396015\n",
       "21    5124800\n",
       "22    2194825\n",
       "23    2002455\n",
       "24    1260850\n",
       "Name: Counts, dtype: int64"
      ]
     },
     "metadata": {},
     "output_type": "display_data"
    },
    {
     "ename": "KeyError",
     "evalue": "'Requested level (Number of People) does not match index name (Location)'",
     "output_type": "error",
     "traceback": [
      "\u001b[0;31m---------------------------------------------------------------------------\u001b[0m",
      "\u001b[0;31mKeyError\u001b[0m                                  Traceback (most recent call last)",
      "Cell \u001b[0;32mIn[121], line 22\u001b[0m\n\u001b[1;32m     19\u001b[0m long_group \u001b[39m=\u001b[39m csv_long\u001b[39m.\u001b[39mgroupby(\n\u001b[1;32m     20\u001b[0m     locations, sort\u001b[39m=\u001b[39m\u001b[39mFalse\u001b[39;00m)[\u001b[39m\"\u001b[39m\u001b[39mCounts\u001b[39m\u001b[39m\"\u001b[39m]\n\u001b[1;32m     21\u001b[0m \u001b[39m# display(csv_long)\u001b[39;00m\n\u001b[0;32m---> 22\u001b[0m long_group\u001b[39m.\u001b[39mplot\u001b[39m.\u001b[39mbarh(stacked\u001b[39m=\u001b[39m\u001b[39mTrue\u001b[39;00m)\u001b[39m.\u001b[39munstack(\u001b[39m\"\u001b[39m\u001b[39mNumber of People\u001b[39m\u001b[39m\"\u001b[39m)\n\u001b[1;32m     23\u001b[0m plt\u001b[39m.\u001b[39mlegend(bbox_to_anchor\u001b[39m=\u001b[39m(\u001b[39m0.5\u001b[39m, \u001b[39m1.02\u001b[39m), loc\u001b[39m=\u001b[39m\u001b[39m\"\u001b[39m\u001b[39mlower center\u001b[39m\u001b[39m\"\u001b[39m,\n\u001b[1;32m     24\u001b[0m            borderaxespad\u001b[39m=\u001b[39m\u001b[39m0\u001b[39m, frameon\u001b[39m=\u001b[39m\u001b[39mFalse\u001b[39;00m, ncol\u001b[39m=\u001b[39m\u001b[39m5\u001b[39m)\n\u001b[1;32m     26\u001b[0m \u001b[39mfor\u001b[39;00m idx, row \u001b[39min\u001b[39;00m long_group\u001b[39m.\u001b[39mreset_index(drop\u001b[39m=\u001b[39m\u001b[39mTrue\u001b[39;00m)\u001b[39m.\u001b[39miterrows():\n",
      "File \u001b[0;32m~/miniconda3/envs/graphing/lib/python3.11/site-packages/pandas/core/series.py:4455\u001b[0m, in \u001b[0;36mSeries.unstack\u001b[0;34m(self, level, fill_value)\u001b[0m\n\u001b[1;32m   4412\u001b[0m \u001b[39m\"\"\"\u001b[39;00m\n\u001b[1;32m   4413\u001b[0m \u001b[39mUnstack, also known as pivot, Series with MultiIndex to produce DataFrame.\u001b[39;00m\n\u001b[1;32m   4414\u001b[0m \n\u001b[0;32m   (...)\u001b[0m\n\u001b[1;32m   4451\u001b[0m \u001b[39mb    2    4\u001b[39;00m\n\u001b[1;32m   4452\u001b[0m \u001b[39m\"\"\"\u001b[39;00m\n\u001b[1;32m   4453\u001b[0m \u001b[39mfrom\u001b[39;00m \u001b[39mpandas\u001b[39;00m\u001b[39m.\u001b[39;00m\u001b[39mcore\u001b[39;00m\u001b[39m.\u001b[39;00m\u001b[39mreshape\u001b[39;00m\u001b[39m.\u001b[39;00m\u001b[39mreshape\u001b[39;00m \u001b[39mimport\u001b[39;00m unstack\n\u001b[0;32m-> 4455\u001b[0m \u001b[39mreturn\u001b[39;00m unstack(\u001b[39mself\u001b[39m, level, fill_value)\n",
      "File \u001b[0;32m~/miniconda3/envs/graphing/lib/python3.11/site-packages/pandas/core/reshape/reshape.py:472\u001b[0m, in \u001b[0;36munstack\u001b[0;34m(obj, level, fill_value)\u001b[0m\n\u001b[1;32m    470\u001b[0m \u001b[39m# Prioritize integer interpretation (GH #21677):\u001b[39;00m\n\u001b[1;32m    471\u001b[0m \u001b[39mif\u001b[39;00m \u001b[39mnot\u001b[39;00m is_integer(level) \u001b[39mand\u001b[39;00m \u001b[39mnot\u001b[39;00m level \u001b[39m==\u001b[39m \u001b[39m\"\u001b[39m\u001b[39m__placeholder__\u001b[39m\u001b[39m\"\u001b[39m:\n\u001b[0;32m--> 472\u001b[0m     level \u001b[39m=\u001b[39m obj\u001b[39m.\u001b[39mindex\u001b[39m.\u001b[39m_get_level_number(level)\n\u001b[1;32m    474\u001b[0m \u001b[39mif\u001b[39;00m \u001b[39misinstance\u001b[39m(obj, DataFrame):\n\u001b[1;32m    475\u001b[0m     \u001b[39mif\u001b[39;00m \u001b[39misinstance\u001b[39m(obj\u001b[39m.\u001b[39mindex, MultiIndex):\n",
      "File \u001b[0;32m~/miniconda3/envs/graphing/lib/python3.11/site-packages/pandas/core/indexes/base.py:2055\u001b[0m, in \u001b[0;36mIndex._get_level_number\u001b[0;34m(self, level)\u001b[0m\n\u001b[1;32m   2054\u001b[0m \u001b[39mdef\u001b[39;00m \u001b[39m_get_level_number\u001b[39m(\u001b[39mself\u001b[39m, level) \u001b[39m-\u001b[39m\u001b[39m>\u001b[39m \u001b[39mint\u001b[39m:\n\u001b[0;32m-> 2055\u001b[0m     \u001b[39mself\u001b[39m\u001b[39m.\u001b[39m_validate_index_level(level)\n\u001b[1;32m   2056\u001b[0m     \u001b[39mreturn\u001b[39;00m \u001b[39m0\u001b[39m\n",
      "File \u001b[0;32m~/miniconda3/envs/graphing/lib/python3.11/site-packages/pandas/core/indexes/base.py:2050\u001b[0m, in \u001b[0;36mIndex._validate_index_level\u001b[0;34m(self, level)\u001b[0m\n\u001b[1;32m   2046\u001b[0m         \u001b[39mraise\u001b[39;00m \u001b[39mIndexError\u001b[39;00m(\n\u001b[1;32m   2047\u001b[0m             \u001b[39mf\u001b[39m\u001b[39m\"\u001b[39m\u001b[39mToo many levels: Index has only 1 level, not \u001b[39m\u001b[39m{\u001b[39;00mlevel \u001b[39m+\u001b[39m \u001b[39m1\u001b[39m\u001b[39m}\u001b[39;00m\u001b[39m\"\u001b[39m\n\u001b[1;32m   2048\u001b[0m         )\n\u001b[1;32m   2049\u001b[0m \u001b[39melif\u001b[39;00m level \u001b[39m!=\u001b[39m \u001b[39mself\u001b[39m\u001b[39m.\u001b[39mname:\n\u001b[0;32m-> 2050\u001b[0m     \u001b[39mraise\u001b[39;00m \u001b[39mKeyError\u001b[39;00m(\n\u001b[1;32m   2051\u001b[0m         \u001b[39mf\u001b[39m\u001b[39m\"\u001b[39m\u001b[39mRequested level (\u001b[39m\u001b[39m{\u001b[39;00mlevel\u001b[39m}\u001b[39;00m\u001b[39m) does not match index name (\u001b[39m\u001b[39m{\u001b[39;00m\u001b[39mself\u001b[39m\u001b[39m.\u001b[39mname\u001b[39m}\u001b[39;00m\u001b[39m)\u001b[39m\u001b[39m\"\u001b[39m\n\u001b[1;32m   2052\u001b[0m     )\n",
      "\u001b[0;31mKeyError\u001b[0m: 'Requested level (Number of People) does not match index name (Location)'"
     ]
    },
    {
     "data": {
      "image/png": "[encoded data removed]",
      "text/plain": [
       "<Figure size 640x480 with 1 Axes>"
      ]
     },
     "metadata": {},
     "output_type": "display_data"
    }
   ],
   "source": [
    "import seaborn as sns\n",
    "\n",
    "import matplotlib as mpl\n",
    "import matplotlib.pyplot as plt\n",
    "import matplotlib.patches as mpatches\n",
    "\n",
    "import numpy as np\n",
    "import pandas as pd\n",
    "\n",
    "csv = pd.read_csv(\"householdsize.csv\", dtype={\"Number of People\": \"category\"})\n",
    "display(csv)\n",
    "csv_long = csv.melt(\"Number of People\",\n",
    "                    var_name=\"Location\", value_name=\"Counts\")\n",
    "\n",
    "locations = csv_long.Location\n",
    "type(locations)\n",
    "display(csv_long.groupby(\"Location\")[\"Counts\"].head())\n",
    "\n",
    "long_group = csv_long.groupby(\n",
    "    locations, sort=False)[\"Counts\"]\n",
    "# display(csv_long)\n",
    "long_group.plot.barh(stacked=True).unstack(\"Number of People\")\n",
    "plt.legend(bbox_to_anchor=(0.5, 1.02), loc=\"lower center\",\n",
    "           borderaxespad=0, frameon=False, ncol=5)\n",
    "\n",
    "for idx, row in long_group.reset_index(drop=True).iterrows():\n",
    "    print(idx, row)\n",
    "    cumulative = 0\n",
    "    for el in row:\n",
    "        plt.text(cumulative + el/2, idx,\n",
    "                 f\"{int(el*100)}%\", va=\"center\", ha=\"center\")\n",
    "        cumulative += el\n",
    "plt.tight_layout()"
   ]
  },
  {
   "cell_type": "code",
   "execution_count": null,
   "metadata": {},
   "outputs": [],
   "source": []
  }
 ],
 "metadata": {
  "kernelspec": {
   "display_name": "graphing",
   "language": "python",
   "name": "python3"
  },
  "language_info": {
   "codemirror_mode": {
    "name": "ipython",
    "version": 3
   },
   "file_extension": ".py",
   "mimetype": "text/x-python",
   "name": "python",
   "nbconvert_exporter": "python",
   "pygments_lexer": "ipython3",
   "version": "3.11.3"
  },
  "orig_nbformat": 4
 },
 "nbformat": 4,
 "nbformat_minor": 2
}
