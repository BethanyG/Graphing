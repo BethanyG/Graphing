{
 "cells": [
  {
   "cell_type": "code",
   "execution_count": 245,
   "metadata": {},
   "outputs": [],
   "source": [
    "import seaborn as sns\n",
    "import pandas as pd\n",
    "import matplotlib.pyplot as plt\n",
    "\n",
    "df = pd.read_csv(\"ages.csv\", index_col=0).mul(100).round(2)"
   ]
  },
  {
   "cell_type": "code",
   "execution_count": 246,
   "metadata": {},
   "outputs": [
    {
     "data": {
      "text/html": [
       "<div>\n",
       "<style scoped>\n",
       "    .dataframe tbody tr th:only-of-type {\n",
       "        vertical-align: middle;\n",
       "    }\n",
       "\n",
       "    .dataframe tbody tr th {\n",
       "        vertical-align: top;\n",
       "    }\n",
       "\n",
       "    .dataframe thead th {\n",
       "        text-align: right;\n",
       "    }\n",
       "</style>\n",
       "<table border=\"1\" class=\"dataframe\">\n",
       "  <thead>\n",
       "    <tr style=\"text-align: right;\">\n",
       "      <th></th>\n",
       "      <th>Ages</th>\n",
       "      <th>Location</th>\n",
       "      <th>values</th>\n",
       "    </tr>\n",
       "  </thead>\n",
       "  <tbody>\n",
       "    <tr>\n",
       "      <th>0</th>\n",
       "      <td>Ages 0-14</td>\n",
       "      <td>Denman</td>\n",
       "      <td>9.06</td>\n",
       "    </tr>\n",
       "    <tr>\n",
       "      <th>1</th>\n",
       "      <td>Ages 15-64</td>\n",
       "      <td>Denman</td>\n",
       "      <td>51.09</td>\n",
       "    </tr>\n",
       "    <tr>\n",
       "      <th>2</th>\n",
       "      <td>Ages 65+</td>\n",
       "      <td>Denman</td>\n",
       "      <td>39.86</td>\n",
       "    </tr>\n",
       "    <tr>\n",
       "      <th>3</th>\n",
       "      <td>Ages 0-14</td>\n",
       "      <td>Hornby</td>\n",
       "      <td>8.98</td>\n",
       "    </tr>\n",
       "    <tr>\n",
       "      <th>4</th>\n",
       "      <td>Ages 15-64</td>\n",
       "      <td>Hornby</td>\n",
       "      <td>47.35</td>\n",
       "    </tr>\n",
       "  </tbody>\n",
       "</table>\n",
       "</div>"
      ],
      "text/plain": [
       "         Ages Location  values\n",
       "0   Ages 0-14   Denman    9.06\n",
       "1  Ages 15-64   Denman   51.09\n",
       "2    Ages 65+   Denman   39.86\n",
       "3   Ages 0-14   Hornby    8.98\n",
       "4  Ages 15-64   Hornby   47.35"
      ]
     },
     "execution_count": 246,
     "metadata": {},
     "output_type": "execute_result"
    }
   ],
   "source": [
    "df = pd.melt(df.reset_index(), id_vars=[\n",
    "             \"Ages\"], var_name=\"Location\", value_vars=df.columns, value_name=\"values\")\n",
    "df.head()"
   ]
  },
  {
   "cell_type": "code",
   "execution_count": 305,
   "metadata": {},
   "outputs": [
    {
     "name": "stdout",
     "output_type": "stream",
     "text": [
      "Ages         object\n",
      "Location     object\n",
      "values      float64\n",
      "dtype: object\n"
     ]
    },
    {
     "ename": "AttributeError",
     "evalue": "'NoneType' object has no attribute 'remove'",
     "output_type": "error",
     "traceback": [
      "\u001b[0;31m---------------------------------------------------------------------------\u001b[0m",
      "\u001b[0;31mAttributeError\u001b[0m                            Traceback (most recent call last)",
      "Cell \u001b[0;32mIn[305], line 35\u001b[0m\n\u001b[1;32m     32\u001b[0m plots \u001b[39m=\u001b[39m [plt1, plt2, plt3, plt4, plt5]\n\u001b[1;32m     34\u001b[0m \u001b[39mfor\u001b[39;00m plot \u001b[39min\u001b[39;00m plots:\n\u001b[0;32m---> 35\u001b[0m     plot\u001b[39m.\u001b[39;49mlegend_\u001b[39m.\u001b[39;49mremove()\n\u001b[1;32m     37\u001b[0m \u001b[39m\"\"\"for plot in plots:\u001b[39;00m\n\u001b[1;32m     38\u001b[0m \u001b[39m    for section in plot.containers:\u001b[39;00m\n\u001b[1;32m     39\u001b[0m \n\u001b[0;32m   (...)\u001b[0m\n\u001b[1;32m     47\u001b[0m \n\u001b[1;32m     48\u001b[0m \u001b[39mplt.legend = False \"\"\"\u001b[39;00m\n",
      "\u001b[0;31mAttributeError\u001b[0m: 'NoneType' object has no attribute 'remove'"
     ]
    },
    {
     "data": {
      "image/png": "[encoded data removed]",
      "text/plain": [
       "<Figure size 640x480 with 1 Axes>"
      ]
     },
     "metadata": {},
     "output_type": "display_data"
    }
   ],
   "source": [
    "denman_df = df.loc[df[\"Location\"] == \"Denman\"]\n",
    "hornby_df = df.loc[df[\"Location\"] == \"Hornby\"]\n",
    "cv_df = df.loc[df[\"Location\"] == \"CV\"]\n",
    "bc_df = df.loc[df[\"Location\"] == \"BC\"]\n",
    "canada_df = df.loc[df[\"Location\"] == \"Canada\"]\n",
    "\n",
    "print(denman_df.dtypes)\n",
    "palette = {'Denman':  sns.color_palette(\"Blues\", denman_df.shape[0]),\n",
    "           'Hornby':  sns.color_palette(\"Purples\", hornby_df.shape[0]),\n",
    "           'CV':  sns.color_palette(\"Oranges\", cv_df.shape[0]),\n",
    "           'BC':  sns.color_palette(\"Reds\", bc_df.shape[0]),\n",
    "           'Canada': sns.color_palette(\"Greens\", canada_df.shape[0]),\n",
    "           }\n",
    "\n",
    "denman = denman_df[\"Location\"].iloc[0]\n",
    "hornby = hornby_df[\"Location\"].iloc[0]\n",
    "cv = cv_df[\"Location\"].iloc[0]\n",
    "bc = bc_df[\"Location\"].iloc[0]\n",
    "canada = canada_df[\"Location\"].iloc[0]\n",
    "\n",
    "plt1 = sns.barplot(data=denman_df, x=\"values\", y=df[\"Location\"], orient=\"h\",\n",
    "                   hue=\"Ages\", palette=palette[denman])\n",
    "plt2 = sns.barplot(data=hornby_df, x=\"values\", y=df[\"Location\"], orient=\"h\",\n",
    "                   hue=\"Ages\", palette=palette[hornby])\n",
    "plt3 = sns.barplot(data=cv_df, x=\"values\", y=df[\"Location\"], orient=\"h\",\n",
    "                   hue=\"Ages\", palette=palette[cv])\n",
    "plt4 = sns.barplot(data=bc_df, x=\"values\", y=df[\"Location\"], orient=\"h\",\n",
    "                   hue=\"Ages\", palette=palette[bc])\n",
    "plt5 = sns.barplot(data=canada_df, x=\"values\", y=df[\"Location\"], orient=\"h\",\n",
    "                   hue=\"Ages\", palette=palette[canada])\n",
    "\n",
    "plots = [plt1, plt2, plt3, plt4, plt5]\n",
    "\n",
    "for plot in plots:\n",
    "    plot.legend_.remove()\n",
    "\n",
    "\"\"\"for plot in plots:\n",
    "    for section in plot.containers:\n",
    "\n",
    "        # Optional: if the segment is small or 0, customize the labels\n",
    "        labels = [value.get_height() if value.get_height()\n",
    "                  else '' for value in section]\n",
    "\n",
    "        # remove the labels parameter if it's not needed for customized labels\n",
    "        plot.bar_label(section, fmt='%0.2f%%',\n",
    "                       label_type='center', fontsize=16)\n",
    "\n",
    "plt.legend = False \"\"\""
   ]
  }
 ],
 "metadata": {
  "kernelspec": {
   "display_name": "graphing",
   "language": "python",
   "name": "python3"
  },
  "language_info": {
   "codemirror_mode": {
    "name": "ipython",
    "version": 3
   },
   "file_extension": ".py",
   "mimetype": "text/x-python",
   "name": "python",
   "nbconvert_exporter": "python",
   "pygments_lexer": "ipython3",
   "version": "3.11.3"
  },
  "orig_nbformat": 4
 },
 "nbformat": 4,
 "nbformat_minor": 2
}
